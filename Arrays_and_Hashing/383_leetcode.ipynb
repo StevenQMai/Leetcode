{
 "cells": [
  {
   "cell_type": "code",
   "execution_count": 14,
   "metadata": {},
   "outputs": [],
   "source": [
    "\n",
    "class Solution(object):\n",
    "    def canConstruct(self, ransomNote, magazine):\n",
    "        \"\"\"\n",
    "        :type ransomNote: str\n",
    "        :type magazine: str\n",
    "        :rtype: bool\n",
    "        \"\"\"\n",
    "        \"\"\"\n",
    "        Understand:\n",
    "        - Inputs: Two strings\n",
    "        - Outputs: Boolean based on whether ransomNote is a proper substring of magazine\n",
    "        - Constraints: Each letter can only be used once in ransomNote\n",
    "        - Edge Cases: If len(ransomNote) > len(magazine) -> False\n",
    "\n",
    "        \"\"\"\n",
    "\n",
    "        if len(ransomNote) > len(magazine):\n",
    "            return False\n",
    "\n",
    "        freq_magazine = {}\n",
    "\n",
    "        for character in magazine:\n",
    "            if character in freq_magazine:\n",
    "                freq_magazine[character] += 1\n",
    "            else:\n",
    "                freq_magazine[character] = 1\n",
    "\n",
    "        for character in ransomNote:\n",
    "            if character in freq_magazine and freq_magazine[character] > 0:\n",
    "                freq_magazine[character] -= 1\n",
    "            else:\n",
    "                return False\n",
    "\n",
    "        return True\n",
    "\n",
    "\"\"\"\n",
    "# Intuition\n",
    "The goal is to determine whether it is possible to construct the ransom note using characters from the magazine. \n",
    "To achieve this, we need to count the occurrences of each character in the magazine and check if there are enough occurrences to form the ransom note.\n",
    "\n",
    "# Approach\n",
    "Create a HashMap called dictionary to store the character counts in the magazine.\n",
    "Iterate through each character in the magazine string.\n",
    "If the character is not present in the dictionary, add it with a count of 1.\n",
    "If the character is already present, increment its count by 1.\n",
    "Iterate through each character in the ransom note string.\n",
    "Check if the character is present in the dictionary and its count is greater than 0.\n",
    "If both conditions are satisfied, decrement the count of the character in the dictionary.\n",
    "If a character is not present in the dictionary or its count is 0, return false.\n",
    "If all characters in the ransom note have been checked successfully, return true.\n",
    "\n",
    "# Complexity\n",
    "- Time complexity:\n",
    "The time complexity of the solution is O(m+n), where m is the length of the magazine string and n is the length of the ransom note string. \n",
    "This is because we iterate through each character in both strings once.\n",
    "\n",
    "- Space complexity:\n",
    "The space complexity is O(m), where m is the number of unique characters in the magazine string. \n",
    "This is because we store the character counts in the dictionary HashMap.\n",
    "\n",
    "\n",
    "\"\"\"\n",
    "\n",
    "        "
   ]
  },
  {
   "cell_type": "code",
   "execution_count": 9,
   "metadata": {},
   "outputs": [
    {
     "name": "stdout",
     "output_type": "stream",
     "text": [
      "{'a': 2, 'b': 1, 'c': 1}\n"
     ]
    }
   ],
   "source": [
    "freqmap = {}\n",
    "\n",
    "string = \"abca\"\n",
    "\n",
    "for character in string:\n",
    "    if character in freqmap:\n",
    "        freqmap[character] += 1\n",
    "\n",
    "    else:\n",
    "        freqmap[character] = 1\n",
    "\n",
    "\n",
    "print(freqmap)"
   ]
  }
 ],
 "metadata": {
  "kernelspec": {
   "display_name": "Python 3",
   "language": "python",
   "name": "python3"
  },
  "language_info": {
   "codemirror_mode": {
    "name": "ipython",
    "version": 3
   },
   "file_extension": ".py",
   "mimetype": "text/x-python",
   "name": "python",
   "nbconvert_exporter": "python",
   "pygments_lexer": "ipython3",
   "version": "3.12.1"
  }
 },
 "nbformat": 4,
 "nbformat_minor": 2
}
