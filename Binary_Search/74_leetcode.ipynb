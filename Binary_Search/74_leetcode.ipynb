{
 "cells": [
  {
   "cell_type": "code",
   "execution_count": null,
   "metadata": {},
   "outputs": [],
   "source": [
    "class Solution:\n",
    "    def searchMatrix(self, matrix, target):\n",
    "        \"\"\"\n",
    "        Understand IOCE:\n",
    "        - Inputs: 2-D integer array and integer target\n",
    "        - Outputs: Boolean value on whether the target exists within the matrix\n",
    "        - Constraints: Has to run in O(log(m*n)) time (size of matrix)\n",
    "        1 <= m, n <= 100\n",
    "        - Edge Cases: None\n",
    "\n",
    "\n",
    "        Idea: Perform binary search for each row of the given matrix\n",
    "        - We will implement binary search 'm' times, based on how many rows there are in the matrix\n",
    "        - This is how we will get the specified runtime of O(log(m*n)) time\n",
    "\n",
    "        Better Idea: Perform binary search on just the rows, just to figure out which row actually contains our target number, \n",
    "        removing the need to unnecessarily check irrelevant rows\n",
    "        \"\"\"\n",
    "\n",
    "        ROWS, COLS = len(matrix), len(matrix[0])\n",
    "\n",
    "        top, bottom = 0, ROWS - 1\n",
    "\n",
    "        while top <= bottom:\n",
    "            row = (top + bottom) // 2\n",
    "            if target > matrix[row][-1]:\n",
    "                top = row + 1\n",
    "            elif target < matrix[row][0]:\n",
    "                bottom = row - 1\n",
    "            else:\n",
    "                break\n",
    "\n",
    "        if not (top <= bottom):\n",
    "            return False\n",
    "\n",
    "        row = (top + bottom) // 2\n",
    "        l, r = 0, COLS - 1\n",
    "\n",
    "        while l <= r:\n",
    "            m = (l + r) // 2\n",
    "            if target > matrix[row][m]:\n",
    "                l = m + 1\n",
    "            elif target < matrix[row][m]:\n",
    "                r = m - 1\n",
    "            else:\n",
    "                return True\n",
    "\n",
    "        return False\n",
    "\n"
   ]
  }
 ],
 "metadata": {
  "kernelspec": {
   "display_name": "Python 3",
   "language": "python",
   "name": "python3"
  },
  "language_info": {
   "name": "python",
   "version": "3.12.1"
  }
 },
 "nbformat": 4,
 "nbformat_minor": 2
}
