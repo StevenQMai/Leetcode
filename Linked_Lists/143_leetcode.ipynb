{
 "cells": [
  {
   "cell_type": "code",
   "execution_count": null,
   "metadata": {},
   "outputs": [],
   "source": [
    "# Definition for singly-linked list.\n",
    "# class ListNode:\n",
    "#     def __init__(self, val=0, next=None):\n",
    "#         self.val = val\n",
    "#         self.next = next\n",
    "\n",
    "\n",
    "# Brute Force solution\n",
    "class Solution:\n",
    "    def reorderList(self, head):\n",
    "        if not head:\n",
    "            return \n",
    "        \n",
    "        nodes = []\n",
    "        curr = head\n",
    "        while curr:\n",
    "            nodes.append(curr)\n",
    "            curr = curr.next\n",
    "\n",
    "        i, j = 0, len(nodes) - 1\n",
    "        while i < j:\n",
    "            nodes[i].next = nodes[j]\n",
    "            i += 1\n",
    "            if i >= j:\n",
    "                break\n",
    "            nodes[j].next = nodes[i]\n",
    "            j -= 1\n",
    "\n",
    "        nodes[i].next = None"
   ]
  },
  {
   "cell_type": "code",
   "execution_count": null,
   "metadata": {},
   "outputs": [],
   "source": [
    "# Definition for singly-linked list.\n",
    "# class ListNode:\n",
    "#     def __init__(self, val=0, next=None):\n",
    "#         self.val = val\n",
    "#         self.next = next\n",
    "\n",
    "class Solution:\n",
    "    def reorderList(self, head):\n",
    "        slow = head \n",
    "        fast = head.next\n",
    "\n",
    "        while fast and fast.next:\n",
    "            slow = slow.next\n",
    "            fast = fast.next.next\n",
    "            # By the end of this, the slow pointer should be halfway through the LL and the fast pointer should be at the end\n",
    "\n",
    "        # Now we want to reverse the links\n",
    "        second = slow.next\n",
    "        prev = slow.next = None\n",
    "\n",
    "        while second:\n",
    "            tmp = second.next\n",
    "            second.next = prev\n",
    "            prev = second\n",
    "\n",
    "        "
   ]
  },
  {
   "cell_type": "code",
   "execution_count": null,
   "metadata": {},
   "outputs": [],
   "source": []
  }
 ],
 "metadata": {
  "kernelspec": {
   "display_name": "Python 3",
   "language": "python",
   "name": "python3"
  },
  "language_info": {
   "name": "python",
   "version": "3.12.1"
  }
 },
 "nbformat": 4,
 "nbformat_minor": 2
}
