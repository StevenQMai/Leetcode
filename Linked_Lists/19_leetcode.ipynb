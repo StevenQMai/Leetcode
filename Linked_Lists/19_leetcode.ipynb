{
 "cells": [
  {
   "cell_type": "code",
   "execution_count": null,
   "metadata": {},
   "outputs": [],
   "source": [
    "# Definition for singly-linked list.\n",
    "class ListNode:\n",
    "    def __init__(self, val=0, next=None):\n",
    "        self.val = val\n",
    "        self.next = next\n",
    "\n",
    "class Solution:\n",
    "    def removeNthFromEnd(self, head:ListNode, n: int) -> ListNode:\n",
    "        dummy = ListNode(0, head) #assign the next pointer of the dummy node to head\n",
    "        # Example linked list with dummy node:\n",
    "        # Dummy -> 1 -> 2 -> 3 -> None\n",
    "\n",
    "        left = dummy \n",
    "        right = head \n",
    "\n",
    "        while n > 0 and right: #moving the right pointer to be n spaces from the 1st node, so that when it reaches None, the Left ptr will be exactly on the the node before the one we have to remove\n",
    "            right = right.next \n",
    "            n -= 1 #decrementing n so that when n = 0, we break out of the loop and are exactly n nodes away from the first\n",
    "\n",
    "        while right: #while right hasnt reached None yet, increment both pointers, maintaining the same gap in between\n",
    "            left = left.next\n",
    "            right = right.next\n",
    "\n",
    "        # Deleting the node in front of L\n",
    "        left.next = left.next.next\n",
    "\n",
    "        # Return dummy.next since dummy.next = the first node, which is the head of the LL\n",
    "        return dummy.next"
   ]
  }
 ],
 "metadata": {
  "kernelspec": {
   "display_name": "Python 3",
   "language": "python",
   "name": "python3"
  },
  "language_info": {
   "name": "python",
   "version": "3.12.1"
  }
 },
 "nbformat": 4,
 "nbformat_minor": 2
}
