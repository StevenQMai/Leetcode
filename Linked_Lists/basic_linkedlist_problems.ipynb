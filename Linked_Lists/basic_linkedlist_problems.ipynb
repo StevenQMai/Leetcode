{
 "cells": [
  {
   "cell_type": "code",
   "execution_count": null,
   "metadata": {},
   "outputs": [],
   "source": [
    "# Basic Problems\n",
    "# Implement a Singly Linked List\n",
    "# Create a Node class and a LinkedList class. Implement methods for:\n",
    "\n",
    "# Adding a node to the end (append)\n",
    "# Adding a node to the start (prepend)\n",
    "# Displaying all elements (print_list)\n",
    "\n",
    "class Node:\n",
    "    def __init__(self, val) -> None:\n",
    "        self.val = val\n",
    "        self.next = None\n",
    "\n",
    "class LinkedList:\n",
    "    def __init__(self) -> None:\n",
    "        self.head = None\n",
    "\n",
    "    def append(self, value):\n",
    "        new_node = Node(value)\n",
    "        if not self.head:\n",
    "            self.head = new_node\n",
    "            return\n",
    "        last_node = self.head\n",
    "        while last_node.next:\n",
    "            last_node = last_node.next # as long as the next node after the last node (starts off at head) exists, keep iterating until we get to the last node and assign accordingly\n",
    "        last_node.next = new_node # makes the new node the very last item in the linked list\n",
    "\n",
    "    def prepend(self, value): # appends a new node, but to the front of the list \n",
    "        new_node = Node(value)\n",
    "        new_node.next = self.head # by making the new node's next pointer point to the current head, this effectively makes the new node positioned at just before the current head\n",
    "        self.head = new_node # now the new node is the first node in the list, so reassign the self.head pointer to the new node since its the new head\n",
    "\n",
    "    def print_list(self):\n",
    "        current = self.head\n",
    "        while current:\n",
    "            print(current.value, end=\" -> \")\n",
    "            current = current.next\n",
    "        print(\"None\") # print None when we reach the end of the list\n"
   ]
  },
  {
   "cell_type": "code",
   "execution_count": 2,
   "metadata": {},
   "outputs": [
    {
     "name": "stdout",
     "output_type": "stream",
     "text": [
      "4 -> 3 -> 2 -> 1 -> None\n"
     ]
    }
   ],
   "source": [
    "# Reverse a Linked List\n",
    "# Write a method to reverse the linked list in-place.\n",
    "\n",
    "class Node:\n",
    "    def __init__(self, val, next=None) -> None:\n",
    "        self.val = val\n",
    "        self.next = next\n",
    "    \n",
    "def reverse(start_node):\n",
    "    prev = None\n",
    "    current = start_node # linked_list is the head of the linked list\n",
    "    while current:\n",
    "        next_node = current.next # make a new pointer and assign it to the node after current\n",
    "        current.next = prev # make the current's next pointer pointing to None (makes 1 -> None)\n",
    "        prev = current # move the prev pointer to the current pointer's location\n",
    "        current = next_node # move current to the next node\n",
    "    return prev # return prev, which is the head of the newly reversed linked list\n",
    "\n",
    "\n",
    "# Example linked list: 1 -> 2 -> 3 -> 4 -> None\n",
    "linked_list = Node(1, Node(2, Node(3, Node(4))))\n",
    "\n",
    "# Reverse the linked list\n",
    "reversed_list = reverse(linked_list)\n",
    "\n",
    "# Print the reversed linked list\n",
    "current = reversed_list\n",
    "while current:\n",
    "    print(current.val, end=\" -> \")\n",
    "    current = current.next\n",
    "print(\"None\")"
   ]
  },
  {
   "cell_type": "code",
   "execution_count": null,
   "metadata": {},
   "outputs": [
    {
     "name": "stdout",
     "output_type": "stream",
     "text": [
      "1 -> 2 -> 4 -> None\n"
     ]
    }
   ],
   "source": [
    "# Delete a Node\n",
    "# Implement a method to delete a node with a specific value.\n",
    "\n",
    "class Node:\n",
    "    def __init__(self, value, next=None) -> None:\n",
    "        self.value = value\n",
    "        self.next = next\n",
    "\n",
    "def delete(start_node, value):\n",
    "    # Step 1: Initialize current to the head of the linked list\n",
    "    current = start_node  # make current point to the head of the linked list\n",
    "    \n",
    "    # Step 2: Check if the node to be deleted is the head node\n",
    "    if current and current.value == value:  # If the head node has the value we want to delete\n",
    "        return current.next  # Return the next node, effectively removing the head (if it's the node to be deleted)\n",
    "    \n",
    "    prev = None  # This will keep track of the previous node\n",
    "    \n",
    "    # Step 3: Traverse the linked list to find the node with the specified value\n",
    "    while current and current.value != value:  # While current node exists and doesn't match the value\n",
    "        prev = current  # Move prev to the current node\n",
    "        current = current.next  # Move current to the next node\n",
    "    \n",
    "    # Step 4: If current is None, the value wasn't found, return the original list\n",
    "    if not current:  # If we exit the loop and haven't found the node, return the original list\n",
    "        return start_node\n",
    "    \n",
    "    # Step 5: Delete the node by adjusting the next pointer of the previous node\n",
    "    prev.next = current.next  # Point the previous node's next to the current node's next (skip current node)\n",
    "    \n",
    "    # Step 6: Return the (potentially updated) head node\n",
    "    return start_node\n",
    "\n",
    "\n",
    "\n",
    "# Example usage\n",
    "linked_list = Node(1, Node(2, Node(3, Node(4))))  # 1 -> 2 -> 3 -> 4 -> None\n",
    "\n",
    "# Delete node with value 3\n",
    "linked_list = delete(linked_list, 3)\n",
    "\n",
    "# Print the list after deletion\n",
    "current = linked_list\n",
    "while current:\n",
    "    print(current.value, end=\" -> \")\n",
    "    current = current.next\n",
    "print(\"None\")\n",
    "    \n"
   ]
  }
 ],
 "metadata": {
  "kernelspec": {
   "display_name": "Python 3",
   "language": "python",
   "name": "python3"
  },
  "language_info": {
   "codemirror_mode": {
    "name": "ipython",
    "version": 3
   },
   "file_extension": ".py",
   "mimetype": "text/x-python",
   "name": "python",
   "nbconvert_exporter": "python",
   "pygments_lexer": "ipython3",
   "version": "3.12.1"
  }
 },
 "nbformat": 4,
 "nbformat_minor": 2
}
