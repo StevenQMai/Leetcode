{
 "cells": [
  {
   "cell_type": "code",
   "execution_count": null,
   "metadata": {},
   "outputs": [
    {
     "name": "stdout",
     "output_type": "stream",
     "text": [
      "1\n",
      "2\n"
     ]
    }
   ],
   "source": [
    "# Basic Queue Problems\n",
    "# Implement a Queue\n",
    "# Implement a queue from scratch using lists. Include methods for:\n",
    "\n",
    "# enqueue: Add an item to the queue.\n",
    "# dequeue: Remove an item from the front of the queue.\n",
    "# peek: View the front item without removing it.\n",
    "# is_empty: Check if the queue is empty.\n",
    "\n",
    "\n",
    "class Queue:\n",
    "    def __init__(self) -> None:\n",
    "        self.queue = []\n",
    "\n",
    "    def enqueue(self, item):\n",
    "        self.queue.append(item)\n",
    "\n",
    "    def dequeue(self):\n",
    "        if not self.is_empty():\n",
    "            return self.queue.pop(0)\n",
    "        return None\n",
    "\n",
    "    def peek(self):\n",
    "        if not self.is_empty():\n",
    "            return self.queue[0]\n",
    "        return None\n",
    "\n",
    "    def is_empty(self):\n",
    "        return len(self.queue) == 0\n",
    "\n",
    "# Example\n",
    "queue = Queue()\n",
    "queue.enqueue(1)\n",
    "queue.enqueue(2)\n",
    "print(queue.dequeue())  # Output: 1\n",
    "print(queue.peek())     # Output: 2"
   ]
  },
  {
   "cell_type": "code",
   "execution_count": 6,
   "metadata": {},
   "outputs": [
    {
     "name": "stdout",
     "output_type": "stream",
     "text": [
      "5 4 3 2 1 "
     ]
    }
   ],
   "source": [
    "# Reverse a Queue\n",
    "# Given a queue, write a function to reverse it. For example:\n",
    "\n",
    "# Input: [1, 2, 3, 4, 5]\n",
    "# Output: [5, 4, 3, 2, 1]\n",
    "\n",
    "\n",
    "from queue import Queue\n",
    "\n",
    "\n",
    "def reverse(lst):\n",
    "    stack = []\n",
    "    while not lst.empty():\n",
    "        stack.append(lst.get()) # retrieves the item in the front of the queue\n",
    "    while stack: # executes once the list is empty and the stack has items in it\n",
    "        lst.put(stack.pop()) # appends new items to the queue lst based on the order of popped items from the stack off the top\n",
    "    return lst\n",
    "\n",
    "\n",
    "\n",
    "# Example\n",
    "lst = Queue()\n",
    "for i in [1,2,3,4,5]:\n",
    "    lst.put(i)\n",
    "\n",
    "reversed_queue = reverse(lst)\n",
    "while not reversed_queue.empty():\n",
    "    print(reversed_queue.get(), end=\" \")\n"
   ]
  }
 ],
 "metadata": {
  "kernelspec": {
   "display_name": "Python 3",
   "language": "python",
   "name": "python3"
  },
  "language_info": {
   "codemirror_mode": {
    "name": "ipython",
    "version": 3
   },
   "file_extension": ".py",
   "mimetype": "text/x-python",
   "name": "python",
   "nbconvert_exporter": "python",
   "pygments_lexer": "ipython3",
   "version": "3.12.1"
  }
 },
 "nbformat": 4,
 "nbformat_minor": 2
}
