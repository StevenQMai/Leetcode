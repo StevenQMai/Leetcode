{
 "cells": [
  {
   "cell_type": "code",
   "execution_count": null,
   "metadata": {},
   "outputs": [],
   "source": [
    "class Solution(object):\n",
    "    def maxProfit(self, prices):\n",
    "        \"\"\"\n",
    "        :type prices: List[int]\n",
    "        :rtype: int\n",
    "        \"\"\"\n",
    "    \n",
    "        l, r = 0, 1 # left = buy, right = sell\n",
    "        max_profit = 0\n",
    "\n",
    "        while r < len(prices):\n",
    "            # Profitable transaction\n",
    "            if prices[l] < prices[r]:\n",
    "                profit = prices[r] - prices[l]\n",
    "                max_profit = max(max_profit, profit)\n",
    "            # Not a profitable transaction, move the left pointer in hopes of it decreasing in price\n",
    "            else:\n",
    "                l = r\n",
    "            r += 1\n",
    "\n",
    "        return max_profit"
   ]
  }
 ],
 "metadata": {
  "kernelspec": {
   "display_name": "Python 3",
   "language": "python",
   "name": "python3"
  },
  "language_info": {
   "name": "python",
   "version": "3.12.1"
  }
 },
 "nbformat": 4,
 "nbformat_minor": 2
}
