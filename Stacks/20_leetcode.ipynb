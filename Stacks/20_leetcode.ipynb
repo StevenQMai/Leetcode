{
 "cells": [
  {
   "cell_type": "code",
   "execution_count": 2,
   "metadata": {},
   "outputs": [
    {
     "data": {
      "text/plain": [
       "False"
      ]
     },
     "execution_count": 2,
     "metadata": {},
     "output_type": "execute_result"
    }
   ],
   "source": [
    "\n",
    "class Solution:\n",
    "    def isValid(self, s: str) -> bool:\n",
    "        stack = [] #keeps track of opening brackets\n",
    "        closeToOpen = {\")\":\"()\", \"]\":\"[]\", \"}\":\"{\"} #stores the closing parentheses as the keys in a hashmap, with the values being open parentheses\n",
    "\n",
    "        for c in s:\n",
    "            if c in closeToOpen: #if the character is a closing parentheses\n",
    "                if stack and stack[-1] == closeToOpen[c]: #if the stack is not empty and if the top of the stack contains the corresponding opening bracket for the current closing bracket c\n",
    "                    stack.pop()\n",
    "                else:\n",
    "                    return False\n",
    "                \n",
    "            else: \n",
    "                stack.append(c)\n",
    "        \n",
    "        return True if not stack else False\n",
    "\n",
    "s = \")(\"\n",
    "solution = Solution()\n",
    "solution.isValid(s)"
   ]
  }
 ],
 "metadata": {
  "kernelspec": {
   "display_name": "Python 3",
   "language": "python",
   "name": "python3"
  },
  "language_info": {
   "codemirror_mode": {
    "name": "ipython",
    "version": 3
   },
   "file_extension": ".py",
   "mimetype": "text/x-python",
   "name": "python",
   "nbconvert_exporter": "python",
   "pygments_lexer": "ipython3",
   "version": "3.12.1"
  }
 },
 "nbformat": 4,
 "nbformat_minor": 2
}
