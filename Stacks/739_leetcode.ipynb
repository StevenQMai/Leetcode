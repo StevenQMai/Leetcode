{
 "cells": [
  {
   "cell_type": "code",
   "execution_count": null,
   "metadata": {},
   "outputs": [],
   "source": [
    "class Solution:\n",
    "    def dailyTemperatures(self, temperatures):\n",
    "\n",
    "        result = [0] * len(temperatures)\n",
    "        for i in range(len(temperatures)):\n",
    "            for j in range(i + 1, len(temperatures)):\n",
    "                if temperatures[j] > temperatures[i]:\n",
    "                    result[i] = j - i\n",
    "                    break\n",
    "\n",
    "        return result"
   ]
  }
 ],
 "metadata": {
  "language_info": {
   "name": "python"
  }
 },
 "nbformat": 4,
 "nbformat_minor": 2
}
