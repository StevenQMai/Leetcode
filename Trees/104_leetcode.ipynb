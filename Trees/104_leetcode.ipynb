{
 "cells": [
  {
   "cell_type": "code",
   "execution_count": null,
   "metadata": {},
   "outputs": [],
   "source": [
    "# Definition for a binary tree node.\n",
    "# class TreeNode:\n",
    "#     def __init__(self, val=0, left=None, right=None):\n",
    "#         self.val = val\n",
    "#         self.left = left\n",
    "#         self.right = right\n",
    "\n",
    "\n",
    "# Recursive DFS\n",
    "class Solution:\n",
    "    def maxDepth(self, root) -> int:\n",
    "        if not root:\n",
    "            return 0\n",
    "\n",
    "        return 1 + max(self.maxDepth(root.left), self.maxDepth(root.right))\n",
    "        "
   ]
  },
  {
   "cell_type": "code",
   "execution_count": null,
   "metadata": {},
   "outputs": [],
   "source": [
    "# Definition for a binary tree node.\n",
    "# class TreeNode:\n",
    "#     def __init__(self, val=0, left=None, right=None):\n",
    "#         self.val = val\n",
    "#         self.left = left\n",
    "#         self.right = right\n",
    "\n",
    "from collections import deque\n",
    "\n",
    "\n",
    "# Iterative DFS\n",
    "class Solution:\n",
    "    def maxDepth(self, root) -> int:\n",
    "        if not root:\n",
    "            return 0\n",
    "    \n",
    "        level = 0\n",
    "        q = deque([root]) #put the root and all subsequent nodes of the tree into a queue    \n",
    "\n",
    "        while q:\n",
    "            for i in range(len(q)):\n",
    "                node = q.popleft() #makes the current node equal to the leftmost item in the queue\n",
    "                if node.left: #if node.left exists\n",
    "                    q.append(node.left)\n",
    "                if node.right:\n",
    "                    q.append(node.right)\n",
    "            level += 1\n",
    "        return level\n"
   ]
  },
  {
   "cell_type": "code",
   "execution_count": null,
   "metadata": {},
   "outputs": [],
   "source": [
    "# Definition for a binary tree node.\n",
    "# class TreeNode:\n",
    "#     def __init__(self, val=0, left=None, right=None):\n",
    "#         self.val = val\n",
    "#         self.left = left\n",
    "#         self.right = right\n",
    "\n",
    "\n",
    "# Iterative DFS\n",
    "class Solution:\n",
    "    def maxDepth(self, root) -> int:\n",
    "        stack = [[root, 1]] #node, depth\n",
    "        res = 0\n",
    "\n",
    "        while stack:\n",
    "            node, depth = stack.pop()\n",
    "\n",
    "            if node:\n",
    "                res = max(res, depth) \n",
    "                stack.append([node.left, depth + 1])\n",
    "                stack.append([node.right, depth + 1])\n",
    "\n",
    "        return res\n",
    "\n"
   ]
  }
 ],
 "metadata": {
  "kernelspec": {
   "display_name": "Python 3",
   "language": "python",
   "name": "python3"
  },
  "language_info": {
   "codemirror_mode": {
    "name": "ipython",
    "version": 3
   },
   "file_extension": ".py",
   "mimetype": "text/x-python",
   "name": "python",
   "nbconvert_exporter": "python",
   "pygments_lexer": "ipython3",
   "version": "3.12.1"
  }
 },
 "nbformat": 4,
 "nbformat_minor": 2
}
