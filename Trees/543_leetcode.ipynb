{
 "cells": [
  {
   "cell_type": "code",
   "execution_count": null,
   "metadata": {},
   "outputs": [],
   "source": [
    "# Definition for a binary tree node.\n",
    "# class TreeNode:\n",
    "#     def __init__(self, val=0, left=None, right=None):\n",
    "#         self.val = val\n",
    "#         self.left = left\n",
    "#         self.right = right\n",
    "\n",
    "class Solution:\n",
    "    def diameterOfBinaryTree(self, root) -> int:\n",
    "        # Initialize the result variable to keep track of the maximum diameter found\n",
    "        self.res = 0\n",
    "\n",
    "        # Depth-first search (dfs) function to calculate the depth of the tree\n",
    "        def dfs(curr):\n",
    "            # Base case: if the current node is None, return 0 as its height\n",
    "            if not curr:\n",
    "                return 0\n",
    "\n",
    "            # Recursively find the height of the left and right subtrees\n",
    "            left = dfs(curr.left)\n",
    "            right = dfs(curr.right)\n",
    "\n",
    "            # Update the maximum diameter found so far (left + right represents\n",
    "            # the number of edges in the path through this node)\n",
    "            self.res = max(self.res, left + right)\n",
    "\n",
    "            # Return the height of the current node (1 + max of left and right heights)\n",
    "            # This height value helps to calculate the diameter of the parent nodes\n",
    "            return 1 + max(left, right)\n",
    "\n",
    "        # Start the DFS traversal from the root node\n",
    "        dfs(root)\n",
    "\n",
    "        # Return the maximum diameter found\n",
    "        return self.res\n"
   ]
  }
 ],
 "metadata": {
  "kernelspec": {
   "display_name": "Python 3",
   "language": "python",
   "name": "python3"
  },
  "language_info": {
   "name": "python",
   "version": "3.12.1"
  }
 },
 "nbformat": 4,
 "nbformat_minor": 2
}
