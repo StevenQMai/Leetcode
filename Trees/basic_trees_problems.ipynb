{
 "cells": [
  {
   "cell_type": "code",
   "execution_count": 4,
   "metadata": {},
   "outputs": [
    {
     "name": "stdout",
     "output_type": "stream",
     "text": [
      "Preorder Traversal: [1, 2, 4, 5, 3, 6]\n"
     ]
    }
   ],
   "source": [
    "# 1. Binary Tree Preorder Traversal\n",
    "# Implement the preorder traversal for a binary tree. In preorder traversal, the nodes are recursively visited in this order:\n",
    "\n",
    "# Visit the root\n",
    "# Traverse the left subtree\n",
    "# Traverse the right subtree\n",
    "\n",
    "class TreeNode():\n",
    "    def __init__(self,value,left=None,right=None) -> None:\n",
    "        self.value = value\n",
    "        self.left = left\n",
    "        self.right = right\n",
    "\n",
    "def preorder_traversal(root: TreeNode):\n",
    "    if root is None:\n",
    "        return []\n",
    "\n",
    "    return [root.value] + preorder_traversal(root.left) + preorder_traversal(root.right)\n",
    "\n",
    "\n",
    "root = TreeNode(1)\n",
    "root.left = TreeNode(2)\n",
    "root.right = TreeNode(3)\n",
    "root.left.left = TreeNode(4)\n",
    "root.left.right = TreeNode(5)\n",
    "root.right.right = TreeNode(6)\n",
    "\n",
    "    #     1\n",
    "    #    / \\\n",
    "    #   2   3\n",
    "    #  / \\   \\\n",
    "    # 4   5   6\n",
    "\n",
    "# Test preorder traversal\n",
    "preorder_result = preorder_traversal(root)\n",
    "print(\"Preorder Traversal:\", preorder_result)"
   ]
  },
  {
   "cell_type": "code",
   "execution_count": 7,
   "metadata": {},
   "outputs": [
    {
     "name": "stdout",
     "output_type": "stream",
     "text": [
      "Inorder Traversal: [4, 2, 5, 1, 3, 6]\n"
     ]
    }
   ],
   "source": [
    "# 2. Binary Tree Inorder Traversal\n",
    "# Implement the inorder traversal for a binary tree. In inorder traversal, the nodes are recursively visited in this order:\n",
    "\n",
    "# Traverse the left subtree\n",
    "# Visit the root\n",
    "# Traverse the right subtree\n",
    "\n",
    "class TreeNode():\n",
    "    def __init__(self,value,left=None,right=None) -> None:\n",
    "        self.value = value\n",
    "        self.left = left\n",
    "        self.right = right\n",
    "\n",
    "def inorder_traversal(root: TreeNode):\n",
    "    if root is None:\n",
    "        return []\n",
    "    return inorder_traversal(root.left) + [root.value] + inorder_traversal(root.right)\n",
    "\n",
    "\n",
    "root = TreeNode(1)\n",
    "root.left = TreeNode(2)\n",
    "root.right = TreeNode(3)\n",
    "root.left.left = TreeNode(4)\n",
    "root.left.right = TreeNode(5)\n",
    "root.right.right = TreeNode(6)\n",
    "\n",
    "    #     1\n",
    "    #    / \\\n",
    "    #   2   3\n",
    "    #  / \\   \\\n",
    "    # 4   5   6\n",
    "\n",
    "# Test preorder traversal\n",
    "inorder_result = inorder_traversal(root)\n",
    "print(\"Inorder Traversal:\", inorder_result)\n"
   ]
  },
  {
   "cell_type": "code",
   "execution_count": null,
   "metadata": {},
   "outputs": [
    {
     "name": "stdout",
     "output_type": "stream",
     "text": [
      "Postorder Traversal: [4, 2, 5, 1, 3, 6]\n"
     ]
    }
   ],
   "source": [
    "# 3. Binary Tree Postorder Traversal\n",
    "# Implement the postorder traversal for a binary tree. In postorder traversal, the nodes are recursively visited in this order:\n",
    "\n",
    "# Traverse the left subtree\n",
    "# Traverse the right subtree\n",
    "# Visit the root\n",
    "\n",
    "\n",
    "\n",
    "\n",
    "class TreeNode():\n",
    "    def __init__(self,value,left=None,right=None) -> None:\n",
    "        self.value = value\n",
    "        self.left = left\n",
    "        self.right = right\n",
    "\n",
    "def postorder_traversal(root: TreeNode):\n",
    "    if root is None:\n",
    "        return []\n",
    "    return postorder_traversal(root.left) + postorder_traversal(root.right) + [root.value]\n",
    "\n",
    "\n",
    "root = TreeNode(1)\n",
    "root.left = TreeNode(2)\n",
    "root.right = TreeNode(3)\n",
    "root.left.left = TreeNode(4)\n",
    "root.left.right = TreeNode(5)\n",
    "root.right.right = TreeNode(6)\n",
    "\n",
    "    #     1\n",
    "    #    / \\\n",
    "    #   2   3\n",
    "    #  / \\   \\\n",
    "    # 4   5   6\n",
    "\n",
    "# Test preorder traversal\n",
    "postorder_result = postorder_traversal(root)\n",
    "print(\"Postorder Traversal:\", postorder_result)\n",
    "\n"
   ]
  }
 ],
 "metadata": {
  "kernelspec": {
   "display_name": "Python 3",
   "language": "python",
   "name": "python3"
  },
  "language_info": {
   "codemirror_mode": {
    "name": "ipython",
    "version": 3
   },
   "file_extension": ".py",
   "mimetype": "text/x-python",
   "name": "python",
   "nbconvert_exporter": "python",
   "pygments_lexer": "ipython3",
   "version": "3.12.1"
  }
 },
 "nbformat": 4,
 "nbformat_minor": 2
}
